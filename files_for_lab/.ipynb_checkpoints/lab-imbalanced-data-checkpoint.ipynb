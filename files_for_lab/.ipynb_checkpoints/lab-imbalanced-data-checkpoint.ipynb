{
 "cells": [
  {
   "cell_type": "markdown",
   "id": "c21717f9",
   "metadata": {},
   "source": [
    "## Lab | Imbalanced data"
   ]
  },
  {
   "cell_type": "markdown",
   "id": "895f103f",
   "metadata": {},
   "source": [
    "We will be using the files_for_lab/customer_churn.csv dataset to build a churn predictor.\n",
    "\n",
    "1. Load the dataset and explore the variables."
   ]
  },
  {
   "cell_type": "code",
   "execution_count": null,
   "id": "2f8b3151",
   "metadata": {},
   "outputs": [],
   "source": []
  },
  {
   "cell_type": "code",
   "execution_count": null,
   "id": "19ccc123",
   "metadata": {},
   "outputs": [],
   "source": []
  },
  {
   "cell_type": "markdown",
   "id": "a4efeb1f",
   "metadata": {},
   "source": [
    "2. We will try to predict variable Churn using a logistic regression on variables tenure, SeniorCitizen,MonthlyCharges."
   ]
  },
  {
   "cell_type": "code",
   "execution_count": null,
   "id": "3dd584c7",
   "metadata": {},
   "outputs": [],
   "source": []
  },
  {
   "cell_type": "code",
   "execution_count": null,
   "id": "52a9ec01",
   "metadata": {},
   "outputs": [],
   "source": []
  },
  {
   "cell_type": "markdown",
   "id": "f631ac16",
   "metadata": {},
   "source": [
    "3. Split the Dataset into X ('tenure', 'SeniorCitizen', 'MonthlyCharges') and y ('Churn')"
   ]
  },
  {
   "cell_type": "code",
   "execution_count": null,
   "id": "cda05ee4",
   "metadata": {},
   "outputs": [],
   "source": []
  },
  {
   "cell_type": "code",
   "execution_count": null,
   "id": "fc2bc50b",
   "metadata": {},
   "outputs": [],
   "source": []
  },
  {
   "cell_type": "markdown",
   "id": "fe552e01",
   "metadata": {},
   "source": [
    "4. Build the logistic regression model."
   ]
  },
  {
   "cell_type": "code",
   "execution_count": null,
   "id": "ced76f54",
   "metadata": {},
   "outputs": [],
   "source": []
  },
  {
   "cell_type": "code",
   "execution_count": null,
   "id": "d7f3e5f2",
   "metadata": {},
   "outputs": [],
   "source": []
  },
  {
   "cell_type": "markdown",
   "id": "90e4b95b",
   "metadata": {},
   "source": [
    "5. Evaluate the model."
   ]
  },
  {
   "cell_type": "code",
   "execution_count": null,
   "id": "921f1477",
   "metadata": {},
   "outputs": [],
   "source": []
  },
  {
   "cell_type": "code",
   "execution_count": null,
   "id": "5d177f34",
   "metadata": {},
   "outputs": [],
   "source": []
  },
  {
   "cell_type": "markdown",
   "id": "a12e676a",
   "metadata": {},
   "source": [
    "6. Even a simple model will give us more than 70% accuracy. Why?"
   ]
  },
  {
   "cell_type": "code",
   "execution_count": null,
   "id": "e8669886",
   "metadata": {},
   "outputs": [],
   "source": []
  },
  {
   "cell_type": "code",
   "execution_count": null,
   "id": "e52b2292",
   "metadata": {},
   "outputs": [],
   "source": []
  },
  {
   "cell_type": "markdown",
   "id": "e40af11a",
   "metadata": {},
   "source": [
    "7. Synthetic Minority Oversampling TEchnique (SMOTE) is an over sampling technique based on nearest neighbors that adds new points between existing points. Apply imblearn.over_sampling.SMOTE to the dataset. Build and evaluate the logistic regression model. Is it there any improvement?"
   ]
  },
  {
   "cell_type": "code",
   "execution_count": null,
   "id": "5f052149",
   "metadata": {},
   "outputs": [],
   "source": []
  },
  {
   "cell_type": "code",
   "execution_count": null,
   "id": "c11f6f8f",
   "metadata": {},
   "outputs": [],
   "source": []
  }
 ],
 "metadata": {
  "kernelspec": {
   "display_name": "Python 3 (ipykernel)",
   "language": "python",
   "name": "python3"
  },
  "language_info": {
   "codemirror_mode": {
    "name": "ipython",
    "version": 3
   },
   "file_extension": ".py",
   "mimetype": "text/x-python",
   "name": "python",
   "nbconvert_exporter": "python",
   "pygments_lexer": "ipython3",
   "version": "3.10.9"
  }
 },
 "nbformat": 4,
 "nbformat_minor": 5
}
